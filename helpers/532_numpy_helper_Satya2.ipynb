{
 "cells": [
  {
   "cell_type": "markdown",
   "metadata": {},
   "source": [
    "# Satya's numpy helper for COURSE -532   "
   ]
  },
  {
   "cell_type": "code",
   "execution_count": 1,
   "metadata": {},
   "outputs": [
    {
     "data": {
      "image/png": "[encoded data removed]",
      "text/plain": [
       "<Figure size 432x288 with 1 Axes>"
      ]
     },
     "metadata": {
      "needs_background": "light"
     },
     "output_type": "display_data"
    }
   ],
   "source": [
    "### Just an example of classfication data\n",
    "import numpy as np\n",
    "import matplotlib as mpl\n",
    "import matplotlib.pyplot as plt\n",
    "%matplotlib inline\n",
    "\n",
    "num_throws = 1000\n",
    "outcomes = np.zeros(num_throws)\n",
    "for i in range(num_throws):\n",
    "    # let's roll the die\n",
    "    outcome = np.random.choice(['1', '2', '3', '4', '5', '6'])\n",
    "    outcomes[i] = outcome\n",
    "\n",
    "value, count = np.unique(outcomes, return_counts=True)\n",
    "prop = count / len(outcomes)\n",
    "\n",
    "\n",
    "plt.bar(value, prop)\n",
    "plt.ylabel(\"Probability\")\n",
    "plt.xlabel(\"Outcome\")\n",
    "plt.show()\n",
    "plt.close()"
   ]
  },
  {
   "cell_type": "code",
   "execution_count": 2,
   "metadata": {},
   "outputs": [
    {
     "data": {
      "text/plain": [
       "[<matplotlib.lines.Line2D at 0x7f6c85a74b38>]"
      ]
     },
     "execution_count": 2,
     "metadata": {},
     "output_type": "execute_result"
    },
    {
     "data": {
      "image/png": "[encoded data removed]",
      "text/plain": [
       "<Figure size 432x288 with 1 Axes>"
      ]
     },
     "metadata": {
      "needs_background": "light"
     },
     "output_type": "display_data"
    }
   ],
   "source": [
    "### Just an example of continous data / normal distribution/ bell curve\n",
    "from scipy.stats.kde import gaussian_kde\n",
    "from numpy import linspace\n",
    "# create fake data\n",
    "data = np.random.randn(1000)\n",
    "# this create the kernel, given an array it will estimate the probability over that values\n",
    "kde = gaussian_kde( data )\n",
    "# these are the values over wich your kernel will be evaluated\n",
    "dist_space = linspace( min(data), max(data), 100 )\n",
    "# plot the results\n",
    "plt.plot( dist_space, kde(dist_space) )"
   ]
  },
  {
   "cell_type": "code",
   "execution_count": 3,
   "metadata": {},
   "outputs": [
    {
     "name": "stdout",
     "output_type": "stream",
     "text": [
      "(8, 4)\n",
      "x where corresponding y is 1   [[1 2 3 4]\n",
      " [2 3 4 5]\n",
      " [4 5 6 7]\n",
      " [5 2 3 4]\n",
      " [7 4 5 6]]\n"
     ]
    }
   ],
   "source": [
    "## assume that x is training data  and y is label.\n",
    "#1  What is the result if we want to identify only x values where corresponding y label is 1 or -1 \n",
    "import numpy as np\n",
    "x = np.array ([[1,2,3,4],[2,3,4,5],[3,4,5,6],[4,5,6,7],[5,2,3,4],[6,3,4,5],[7,4,5,6],[8,5,6,7]])\n",
    "print(x.shape)\n",
    "y = np.array([1,1,-1,1,1,-1,1,-1])\n",
    "print(\"x where corresponding y is 1  \" , x[y==1])"
   ]
  },
  {
   "cell_type": "code",
   "execution_count": 4,
   "metadata": {},
   "outputs": [
    {
     "name": "stdout",
     "output_type": "stream",
     "text": [
      "(8, 4)\n",
      "x where corresponding y is -1   [[3 4 5 6]\n",
      " [6 3 4 5]\n",
      " [8 5 6 7]]\n"
     ]
    }
   ],
   "source": [
    "#2  What is the result if we want to identify only x values where corresponding y label is  -1 \n",
    "import numpy as np\n",
    "x = np.array ([[1,2,3,4],[2,3,4,5],[3,4,5,6],[4,5,6,7],[5,2,3,4],[6,3,4,5],[7,4,5,6],[8,5,6,7]])\n",
    "print(x.shape)\n",
    "y = np.array([1,1,-1,1,1,-1,1,-1])\n",
    "\n",
    "print(\"x where corresponding y is -1  \" , x[y==-1])"
   ]
  },
  {
   "cell_type": "code",
   "execution_count": 5,
   "metadata": {
    "scrolled": true
   },
   "outputs": [
    {
     "name": "stdout",
     "output_type": "stream",
     "text": [
      "(8, 4)\n",
      "(8,)\n",
      "number of test points:  8\n",
      "number of dimensions:  4\n"
     ]
    }
   ],
   "source": [
    "### DATA FOR MOST OF THE PROBLEMS BELOW\n",
    "import numpy as np\n",
    "x = np.array ([[1,2,3,4],[2,3,4,5],[13,14,15,16],[4,5,6,7],[5,2,3,4],[6,3,4,7],[7,4,5,6],[18,15,16,17]])\n",
    "y = np.array([1,1,-1,1,1,-1,1,-1])\n",
    "print(x.shape)\n",
    "print(y.shape)\n",
    "#3 How many test data points does x have ?\n",
    "n,d  = x.shape \n",
    "print('number of test points: ',n)\n",
    "#4 How many dimensions x have ? \n",
    "print('number of dimensions: ',d)\n",
    "\n"
   ]
  },
  {
   "cell_type": "code",
   "execution_count": 6,
   "metadata": {},
   "outputs": [
    {
     "name": "stdout",
     "output_type": "stream",
     "text": [
      "5\n",
      "3\n"
     ]
    }
   ],
   "source": [
    "import numpy as np\n",
    "x = np.array ([[1,2,3,4],[2,3,4,5],[13,14,15,16],[4,5,6,7],[5,2,3,4],[6,3,4,7],[7,4,5,6],[18,15,16,17]])\n",
    "y = np.array([1,1,-1,1,1,-1,1,-1])\n",
    "\n",
    "#4 how many 1 s are there in y ?\n",
    "print(len(y[y == 1]))\n",
    "#5 how many -1s are there in y ?\n",
    "print(len(y[y ==-1]))\n",
    "\n"
   ]
  },
  {
   "cell_type": "code",
   "execution_count": 7,
   "metadata": {},
   "outputs": [
    {
     "name": "stdout",
     "output_type": "stream",
     "text": [
      "0.25\n",
      "  x that we use   [[ 1  2  3  4]\n",
      " [ 2  3  4  5]\n",
      " [13 14 15 16]\n",
      " [ 4  5  6  7]\n",
      " [ 5  2  3  4]\n",
      " [ 6  3  4  7]\n",
      " [ 7  4  5  6]\n",
      " [18 15 16 17]]\n",
      "last column [ 4  5 16  7  4  7  6 17]\n",
      "last but one column [[ 3]\n",
      " [ 4]\n",
      " [15]\n",
      " [ 6]\n",
      " [ 3]\n",
      " [ 4]\n",
      " [ 5]\n",
      " [16]]\n",
      "second row [[2 3 4 5]]\n"
     ]
    }
   ],
   "source": [
    "import numpy as np\n",
    "x = np.array ([[1,2,3,4],[2,3,4,5],[13,14,15,16],[4,5,6,7],[5,2,3,4],[6,3,4,7],[7,4,5,6],[18,15,16,17]])\n",
    "y = np.array([1,1,-1,1,1,-1,1,-1])\n",
    "\n",
    "#6 what is mean ? how do we calculate? \n",
    "print(np.mean(y))\n",
    "#7 Slicing and dicing example\n",
    "print('  x that we use  ',x)\n",
    "#let's pick the last column\n",
    "print('last column',x[:,3])\n",
    "print('last but one column',x[:,2:3]) \n",
    "print('second row', x[1:2])\n"
   ]
  },
  {
   "cell_type": "code",
   "execution_count": 8,
   "metadata": {},
   "outputs": [
    {
     "name": "stdout",
     "output_type": "stream",
     "text": [
      "meanColWise [7.   6.   7.   8.25]\n",
      "meanRowWise [ 2.5  3.5 14.5  5.5  3.5  5.   5.5 16.5]\n"
     ]
    }
   ],
   "source": [
    "import numpy as np\n",
    "x = np.array ([[1,2,3,4],[2,3,4,5],[13,14,15,16],[4,5,6,7],[5,2,3,4],[6,3,4,7],[7,4,5,6],[18,15,16,17]])\n",
    "y = np.array([1,1,-1,1,1,-1,1,-1])\n",
    "\n",
    "#8- how do we do some operations on x (training data ) , using y (labels ) as reference and save it in a new matrix ?\n",
    "## Example scenario.  Calculate the mean , dimension wise and store it in a thrid matrix \n",
    "meanColWise = np.mean(x,axis=0)\n",
    "print('meanColWise',meanColWise)\n",
    "#9- how do we do some operations on x (training data ) , using y (labels ) as reference and save it in a new matrix ?\n",
    "## Example scenario.  Calculate the mean , dimension wise and store it in a thrid matrix\n",
    "meanRowWise = np.mean(x,axis=1)\n",
    "print('meanRowWise',meanRowWise)\n",
    "\n"
   ]
  },
  {
   "cell_type": "code",
   "execution_count": 9,
   "metadata": {},
   "outputs": [
    {
     "name": "stdout",
     "output_type": "stream",
     "text": [
      "number of test points:  8\n",
      "number of dimensions:  4\n",
      " ---------- only y==1 ---------------\n",
      "x where y =1 [[1 2 3 4]\n",
      " [2 3 4 5]\n",
      " [4 5 6 7]\n",
      " [5 2 3 4]\n",
      " [7 4 5 6]]\n",
      "meanColY1 [3.8 3.2 4.2 5.2]\n",
      "meanRowY1 [2.5 3.5 5.5 3.5 5.5]\n"
     ]
    }
   ],
   "source": [
    "import numpy as np\n",
    "x = np.array ([[1,2,3,4],[2,3,4,5],[13,14,15,16],[4,5,6,7],[5,2,3,4],[6,3,4,7],[7,4,5,6],[18,15,16,17]])\n",
    "y = np.array([1,1,-1,1,1,-1,1,-1])\n",
    "n,d  = x.shape \n",
    "print('number of test points: ',n)\n",
    "# How many dimensions x have ? \n",
    "print('number of dimensions: ',d)\n",
    "\n",
    "\n",
    "'''\n",
    "Now do the operations for only y labels where it's 1\n",
    "'''\n",
    "print(\" ---------- only y==1 ---------------\")\n",
    "\n",
    "print('x where y =1',x[y == 1])\n",
    "#10- how do we do some operations on x (training data ) , using y (labels ) as reference and save it in a new matrix ?\n",
    "## Example scenario.  Calculate the mean , dimension wise and store it in a thrid matrix\n",
    "meanColY1 = np.mean(x[y==1],axis=0)\n",
    "print('meanColY1',meanColY1)\n",
    "#11- how do we do some operations on x (training data ) , using y (labels ) as reference and save it in a new matrix ?\n",
    "## Example scenario.  Calculate the mean , dimension wise and store it in a thrid matrix\n",
    "meanRowY1 = np.mean(x[y==1],axis=1)\n",
    "print('meanRowY1',meanRowY1)\n",
    "\n",
    "\n"
   ]
  },
  {
   "cell_type": "code",
   "execution_count": 10,
   "metadata": {},
   "outputs": [
    {
     "name": "stdout",
     "output_type": "stream",
     "text": [
      " ---------- only y==-1 ---------------\n",
      "x where y =-1 [[13 14 15 16]\n",
      " [ 6  3  4  7]\n",
      " [18 15 16 17]]\n",
      "meanColY1 [12.33333333 10.66666667 11.66666667 13.33333333]\n",
      "meanRowY1 [14.5  5.  16.5]\n"
     ]
    }
   ],
   "source": [
    "import numpy as np\n",
    "x = np.array ([[1,2,3,4],[2,3,4,5],[13,14,15,16],[4,5,6,7],[5,2,3,4],[6,3,4,7],[7,4,5,6],[18,15,16,17]])\n",
    "y = np.array([1,1,-1,1,1,-1,1,-1])\n",
    "n,d  = x.shape \n",
    "\n",
    "\n",
    "print(\" ---------- only y==-1 ---------------\")\n",
    "\n",
    "print('x where y =-1',x[y == -1])\n",
    "#12- how do we do some operations on x (training data ) , using y (labels ) as reference and save it in a new matrix ?\n",
    "## Example scenario.  Calculate the mean , dimension wise and store it in a thrid matrix \n",
    "meanColY1 = np.mean(x[y==-1],axis=0)\n",
    "print('meanColY1',meanColY1)\n",
    "#13- how do we do some operations on x (training data ) , using y (labels ) as reference and save it in a new matrix ?\n",
    "## Example scenario.  Calculate the mean , dimension wise and store it in a thrid matrix \n",
    "meanRowY1 = np.mean(x[y==-1],axis=1)\n",
    "print('meanRowY1',meanRowY1)\n",
    "\n",
    "\n"
   ]
  },
  {
   "cell_type": "code",
   "execution_count": 11,
   "metadata": {},
   "outputs": [
    {
     "name": "stdout",
     "output_type": "stream",
     "text": [
      "-----calculate mean for y==1  and y ==-1 dimension wise seperately and store it in a third matrix meanvalues\n",
      "meanColYminus1 [14.5  5.  16.5]\n",
      "meanColY1 [2.5 3.5 5.5 3.5 5.5]\n",
      "meanvalues [ 2.5  3.5 14.5  5.5  3.5  5.   5.5 16.5]\n"
     ]
    }
   ],
   "source": [
    "import numpy as np\n",
    "x = np.array ([[1,2,3,4],[2,3,4,5],[13,14,15,16],[4,5,6,7],[5,2,3,4],[6,3,4,7],[7,4,5,6],[18,15,16,17]])\n",
    "y = np.array([1,1,-1,1,1,-1,1,-1])\n",
    "n,d  = x.shape \n",
    "\n",
    "print(\"-----calculate mean for y==1  and y ==-1 dimension wise seperately and store it in a third matrix meanvalues\")\n",
    "meanColYminus1 = np.mean(x[y==-1],axis=1)\n",
    "print('meanColYminus1',meanColYminus1)\n",
    "meanColY1 = np.mean(x[y==1],axis=1)\n",
    "print('meanColY1',meanColY1)\n",
    "meanvalues = np.ones(n)\n",
    "meanvalues[y==1] = meanColY1\n",
    "meanvalues[y==-1] = meanColYminus1 \n",
    "print('meanvalues',meanvalues)\n",
    "\n",
    "\n",
    "\n"
   ]
  },
  {
   "cell_type": "code",
   "execution_count": 12,
   "metadata": {},
   "outputs": [
    {
     "name": "stdout",
     "output_type": "stream",
     "text": [
      "[1. 1. 1. 1. 1.]\n",
      "[-1. -1. -1. -1. -1.]\n",
      "[[ 1  2  3  4]\n",
      " [ 2  3  4  5]\n",
      " [13 14 15 16]\n",
      " [ 4  5  6  7]\n",
      " [ 5  2  3  4]\n",
      " [ 6  3  4  7]\n",
      " [ 7  4  5  6]\n",
      " [18 15 16 17]]\n",
      "[[  0  -1  -2  -3]\n",
      " [ -1  -2  -3  -4]\n",
      " [-12 -13 -14 -15]\n",
      " [ -3  -4  -5  -6]\n",
      " [ -4  -1  -2  -3]\n",
      " [ -5  -2  -3  -6]\n",
      " [ -6  -3  -4  -5]\n",
      " [-17 -14 -15 -16]]\n"
     ]
    }
   ],
   "source": [
    "#how to create ones, minus ones \n",
    "import numpy as np\n",
    "x = np.array ([[1,2,3,4],[2,3,4,5],[13,14,15,16],[4,5,6,7],[5,2,3,4],[6,3,4,7],[7,4,5,6],[18,15,16,17]])\n",
    "y = np.array([1,1,-1,1,1,-1,1,-1])\n",
    "\n",
    "ones = np.ones(5)\n",
    "print(ones)\n",
    "\n",
    "minusones = -np.ones(5)\n",
    "print(minusones)\n",
    "\n",
    "\n",
    "\n",
    "print(x)\n",
    "print(1-x)"
   ]
  },
  {
   "cell_type": "code",
   "execution_count": 13,
   "metadata": {},
   "outputs": [
    {
     "data": {
      "text/plain": [
       "array([4, 6, 9])"
      ]
     },
     "execution_count": 13,
     "metadata": {},
     "output_type": "execute_result"
    }
   ],
   "source": [
    "# DIFFERENCE BETWEEN np.maximum v/s np.max\n",
    "import numpy as np\n",
    "array1 = np.array([3, 6, 1])\n",
    "array2 = np.array([4, 2, 9])\n",
    "np.maximum(array1, array2)\n"
   ]
  },
  {
   "cell_type": "code",
   "execution_count": 14,
   "metadata": {},
   "outputs": [
    {
     "data": {
      "text/plain": [
       "array([4, 6, 9])"
      ]
     },
     "execution_count": 14,
     "metadata": {},
     "output_type": "execute_result"
    }
   ],
   "source": [
    "# DIFFERENCE BETWEEN np.maximum v/s np.max\n",
    "import numpy as np\n",
    "array1 = np.array([[3, 6, 1],[4, 2, 9]])\n",
    "\n",
    "np.max(array1, axis=0)"
   ]
  },
  {
   "cell_type": "markdown",
   "metadata": {},
   "source": [
    "How to calculate  x to the power of y"
   ]
  },
  {
   "cell_type": "code",
   "execution_count": 1,
   "metadata": {},
   "outputs": [
    {
     "name": "stdout",
     "output_type": "stream",
     "text": [
      "1048576\n"
     ]
    }
   ],
   "source": [
    "import numpy as np\n",
    "# calcualate 2 to the power of 20\n",
    "print(np.power(2,20))"
   ]
  },
  {
   "cell_type": "code",
   "execution_count": null,
   "metadata": {},
   "outputs": [],
   "source": []
  }
 ],
 "metadata": {
  "kernelspec": {
   "display_name": "Python 3",
   "language": "python",
   "name": "python3"
  },
  "language_info": {
   "codemirror_mode": {
    "name": "ipython",
    "version": 3
   },
   "file_extension": ".py",
   "mimetype": "text/x-python",
   "name": "python",
   "nbconvert_exporter": "python",
   "pygments_lexer": "ipython3",
   "version": "3.7.7"
  }
 },
 "nbformat": 4,
 "nbformat_minor": 2
}
